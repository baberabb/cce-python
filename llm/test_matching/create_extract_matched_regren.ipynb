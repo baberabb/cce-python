{
 "cells": [
  {
   "cell_type": "code",
   "execution_count": 1,
   "id": "initial_id",
   "metadata": {
    "ExecuteTime": {
     "end_time": "2024-03-09T13:23:10.945874Z",
     "start_time": "2024-03-09T13:23:04.163779Z"
    },
    "collapsed": true
   },
   "outputs": [],
   "source": [
    "import datasets\n",
    "import polars as pl\n",
    "from datetime import datetime\n"
   ]
  },
  {
   "cell_type": "markdown",
   "id": "16f7ccf6e694b72b",
   "metadata": {
    "collapsed": false
   },
   "source": [
    "The datasets been generated using this [fork](https://github.com/baberabb/cce-python). The main logic is\n",
    "for each registration and each matching renewal entry:\n",
    "\n",
    "    1. check if date matches -> exact match\n",
    "        2. if not then check if year matches\n",
    "            3. if not then check if the normalized authors/title match\n"
   ]
  },
  {
   "cell_type": "code",
   "execution_count": 260,
   "id": "224f7f5808d529d4",
   "metadata": {
    "ExecuteTime": {
     "end_time": "2024-03-09T15:26:12.058877Z",
     "start_time": "2024-03-09T15:25:15.481361Z"
    },
    "collapsed": false
   },
   "outputs": [],
   "source": [
    "renewals_unmatched = datasets.load_dataset(\"baber/pdbooks\", \"renewals_unmatched\")[\n",
    "    \"train\"\n",
    "].to_pandas()\n",
    "renewals_matched = datasets.load_dataset(\"baber/pdbooks\", \"renewals_matched\")[\n",
    "    \"train\"\n",
    "].to_pandas()\n",
    "registrations_all = datasets.load_dataset(\"baber/pdbooks\", \"registrations_all\")[\n",
    "    \"train\"\n",
    "].to_pandas()\n",
    "registrations_unmatched = datasets.load_dataset(\n",
    "    \"baber/pdbooks\", \"registrations_not_renewed\"\n",
    ")[\"train\"].to_pandas()"
   ]
  },
  {
   "cell_type": "markdown",
   "id": "63e79ef9567a57c5",
   "metadata": {},
   "source": "We'll use polars, but it's interchangeable with pandas with .to_pandas()"
  },
  {
   "cell_type": "code",
   "execution_count": 384,
   "id": "9cb8562f25e4dc17",
   "metadata": {
    "ExecuteTime": {
     "end_time": "2024-03-09T16:36:58.578455Z",
     "start_time": "2024-03-09T16:36:53.631018Z"
    }
   },
   "outputs": [
    {
     "name": "stdout",
     "output_type": "stream",
     "text": [
      "Total registrations remaining: 560350\n"
     ]
    }
   ],
   "source": [
    "ren_unmatched = pl.from_pandas(renewals_unmatched)\n",
    "ren_matched = pl.from_pandas(renewals_matched)\n",
    "reg_all = pl.from_pandas(registrations_all)\n",
    "reg_unmatched = pl.from_pandas(registrations_unmatched)\n",
    "\n",
    "# print(f\"Total renewals unmatched: {len(ren_unmatched)}\")\n",
    "print(f\"Total registrations remaining: {len(reg_unmatched)}\")"
   ]
  },
  {
   "cell_type": "markdown",
   "id": "8828512915dfa468",
   "metadata": {},
   "source": "These are alot of unmatched renewals but these include non-book entries as well. Sub-setting just the registration numbers we have in the reg dataset and filtering the dates we get ~8000 matched numbers with _all_ registrations and ~4000 with the registrations remaining (unmatched, not foreign, etc.). Looking at all registrations:"
  },
  {
   "cell_type": "code",
   "execution_count": 385,
   "id": "a728b0de97b2030f",
   "metadata": {
    "ExecuteTime": {
     "end_time": "2024-03-09T16:36:58.585190Z",
     "start_time": "2024-03-09T16:36:58.580729Z"
    }
   },
   "outputs": [],
   "source": [
    "def filter_dates(x):\n",
    "    return pl.col(x).list.eval(pl.element().str.to_date(strict=False, exact=False).is_between(datetime(1929, 1, 1), datetime(1964, 1, 1))).list.any() | pl.col(x).is_null() | pl.col(x).list.eval(pl.element().len() < 1).list.any()\n",
    "\n",
    "def normalize_regnums(x):\n",
    "    return pl.col(x).str.replace_all(\"-\", \"\")"
   ]
  },
  {
   "cell_type": "code",
   "execution_count": 398,
   "id": "ef948b9d3c571641",
   "metadata": {
    "ExecuteTime": {
     "end_time": "2024-03-09T16:42:37.604319Z",
     "start_time": "2024-03-09T16:42:37.593590Z"
    }
   },
   "outputs": [],
   "source": [
    "from polars import col\n",
    "\n",
    "reg_all_ = (\n",
    "    reg_all.lazy()\n",
    "    .with_columns(pl.col(pl.Utf8).replace(\"\", None))\n",
    "    .filter(filter_dates(\"reg_dates\"))\n",
    "    .explode(\"regnums\")\n",
    "    .with_columns(normalize_regnums(\"regnums\"))\n",
    ")\n",
    "\n",
    "ren_unmatched_ = (\n",
    "    ren_unmatched.lazy()\n",
    "    .with_columns(pl.col(pl.Utf8).replace(\"\", None))\n",
    "    .with_columns(\n",
    "        # when title contains by and author is null then we'll just use title\n",
    "        prompt_ren=pl.when(col(\"title\").is_null())\n",
    "        .then(col(\"full_text\").str.split(\"©\").list.first())\n",
    "        .when(col(\"author\").is_null() & col(\"title\").str.contains(\"by\"))\n",
    "        .then(pl.format(\"{}\", col(\"title\")))\n",
    "        # if both author and title then use \"{title} by {author}\"\n",
    "        .when(col(\"author\").is_not_null())\n",
    "        .then(pl.format(\"{} by {}\", col(\"title\"), col(\"author\")))\n",
    "        # else by UNKNOWN\n",
    "        .otherwise(pl.format(\"{} by {}\", col(\"title\"), pl.lit(\"UNKNOWN\")))\n",
    "    )\n",
    "    .explode(\"regnum\")\n",
    "    .with_columns(normalize_regnums(\"regnum\"))\n",
    "    .join(\n",
    "        ren_matched.lazy().select(\"uuid\"),\n",
    "        how=\"anti\",\n",
    "        on=\"uuid\",\n",
    "    )\n",
    "    .filter(filter_dates(\"reg_date\"))\n",
    "    .rename({\"uuid\": \"uuid_ren\"})\n",
    ")"
   ]
  },
  {
   "cell_type": "code",
   "execution_count": 404,
   "id": "5dcee381bae10d58",
   "metadata": {
    "ExecuteTime": {
     "end_time": "2024-03-09T16:43:36.973581Z",
     "start_time": "2024-03-09T16:43:36.964735Z"
    }
   },
   "outputs": [],
   "source": [
    "final_df = (\n",
    "    reg_all_.join(\n",
    "        ren_unmatched_.lazy(), how=\"inner\", left_on=\"regnums\", right_on=\"regnum\"\n",
    "    )\n",
    "    .with_columns(\n",
    "        # this logic leaves out the case where there's only authors and publishers\n",
    "        # 43 rows however none of them are a match\n",
    "        prompt_reg=pl.when(col(\"authors\").is_not_null())\n",
    "        .then(\n",
    "            pl.format(\n",
    "                \"{} by {}\",\n",
    "                col(\"title\"),\n",
    "                col(\"authors\").list.join(\" & \"),\n",
    "            )\n",
    "        )\n",
    "        .when(col(\"authors\").is_null() & col(\"publishers\").is_not_null())\n",
    "        .then(\n",
    "            pl.format(\n",
    "                \"{} published by {}\", col(\"title\"), col(\"publishers\").list.join(\" & \")\n",
    "            )\n",
    "        )\n",
    "        .otherwise(pl.format(\"{} by UNKNOWN\", pl.col(\"title\")))\n",
    "    )\n",
    "    .unique([\"prompt_reg\", \"prompt_ren\"])\n",
    "    .filter(pl.col(\"prompt_reg\").is_not_null())\n",
    ")"
   ]
  },
  {
   "cell_type": "code",
   "execution_count": 410,
   "id": "1542a1995689897",
   "metadata": {
    "ExecuteTime": {
     "end_time": "2024-03-09T16:55:13.212220Z",
     "start_time": "2024-03-09T16:55:11.599067Z"
    }
   },
   "outputs": [
    {
     "data": {
      "text/html": [
       "<div><style>\n",
       ".dataframe > thead > tr,\n",
       ".dataframe > tbody > tr {\n",
       "  text-align: right;\n",
       "  white-space: pre-wrap;\n",
       "}\n",
       "</style>\n",
       "<small>shape: (7_572, 28)</small><table border=\"1\" class=\"dataframe\"><thead><tr><th>uuid</th><th>regnums</th><th>reg_dates</th><th>title</th><th>authors</th><th>publishers</th><th>disposition</th><th>year</th><th>group_title</th><th>group_uuid</th><th>notes</th><th>parent</th><th>new_matter_claimed</th><th>previous_publications</th><th>uuid_ren</th><th>reg_date</th><th>renewal_id</th><th>renewal_date</th><th>author</th><th>title_right</th><th>new_matter</th><th>see_also_renewal</th><th>see_also_registration</th><th>full_text</th><th>claimants</th><th>notes_right</th><th>prompt_ren</th><th>prompt_reg</th></tr><tr><td>str</td><td>str</td><td>list[str]</td><td>str</td><td>list[str]</td><td>list[str]</td><td>str</td><td>str</td><td>str</td><td>str</td><td>list[str]</td><td>str</td><td>list[str]</td><td>list[str]</td><td>str</td><td>list[str]</td><td>str</td><td>str</td><td>str</td><td>str</td><td>str</td><td>list[null]</td><td>list[null]</td><td>str</td><td>str</td><td>str</td><td>str</td><td>str</td></tr></thead><tbody><tr><td>&quot;FC1116C3-7454-…</td><td>&quot;A181722&quot;</td><td>[&quot;1944-05-23&quot;]</td><td>&quot;Strangers in m…</td><td>[&quot;Buirgy (Mary)&quot;]</td><td>null</td><td>&quot;Not renewed.&quot;</td><td>&quot;1944&quot;</td><td>null</td><td>null</td><td>null</td><td>null</td><td>null</td><td>null</td><td>&quot;feedd024-b95d-…</td><td>[&quot;1955-03-16&quot;]</td><td>&quot;RE173961&quot;</td><td>null</td><td>null</td><td>&quot;Teacher&#x27;s manu…</td><td>null</td><td>[]</td><td>[]</td><td>null</td><td>&quot;Holt, Rinehart…</td><td>null</td><td>&quot;Teacher&#x27;s manu…</td><td>&quot;Strangers in m…</td></tr><tr><td>&quot;063B6B35-7455-…</td><td>&quot;A184743&quot;</td><td>[&quot;1944-11-30&quot;]</td><td>&quot;Year book of t…</td><td>null</td><td>[&quot;Year book publishers, inc.&quot;]</td><td>&quot;Not renewed.&quot;</td><td>&quot;1944&quot;</td><td>null</td><td>null</td><td>null</td><td>null</td><td>null</td><td>null</td><td>&quot;c9fca8e4-8a05-…</td><td>[&quot;1954-09-23&quot;]</td><td>&quot;RE150894&quot;</td><td>null</td><td>null</td><td>&quot;Smoke jumpers.…</td><td>null</td><td>[]</td><td>[]</td><td>null</td><td>&quot;Nels Jorgensen…</td><td>null</td><td>&quot;Smoke jumpers.…</td><td>&quot;Year book of t…</td></tr><tr><td>&quot;3D6C9285-734A-…</td><td>&quot;A176738&quot;</td><td>[&quot;1943-10-13&quot;]</td><td>&quot;Turquoise path…</td><td>[&quot;Rousseau (Christine McConnell)&quot;]</td><td>[&quot;Broadman press&quot;]</td><td>&quot;Not renewed.&quot;</td><td>&quot;1943&quot;</td><td>null</td><td>null</td><td>null</td><td>null</td><td>null</td><td>null</td><td>&quot;d0c17431-56e1-…</td><td>[&quot;1955-02-23&quot;]</td><td>&quot;RE159740&quot;</td><td>null</td><td>null</td><td>&quot;History of art…</td><td>null</td><td>[]</td><td>[]</td><td>null</td><td>&quot;Jean Anne Vinc…</td><td>null</td><td>&quot;History of art…</td><td>&quot;Turquoise path…</td></tr><tr><td>&quot;428DAE0A-734A-…</td><td>&quot;A170646&quot;</td><td>[&quot;1943-01-26&quot;]</td><td>&quot;American agric…</td><td>[&quot;Barger (Harold)&quot;, &quot;H. Barger&quot;, &quot;Hans H. Landsberg&quot;]</td><td>[&quot;Natl. bureau of economic research, inc.&quot;]</td><td>&quot;Not renewed.&quot;</td><td>&quot;1943&quot;</td><td>null</td><td>null</td><td>null</td><td>null</td><td>null</td><td>null</td><td>&quot;3586e70a-a649-…</td><td>[&quot;1950-12-23&quot;]</td><td>&quot;RE7313&quot;</td><td>null</td><td>null</td><td>&quot;For presenting…</td><td>null</td><td>[]</td><td>[]</td><td>null</td><td>&quot;Helen Seitter …</td><td>null</td><td>&quot;For presenting…</td><td>&quot;American agric…</td></tr><tr><td>&quot;429007E2-734A-…</td><td>&quot;A170652&quot;</td><td>[&quot;1943-01-18&quot;]</td><td>&quot;L’imitation de…</td><td>[&quot;Lelen (J. M.)&quot;]</td><td>[&quot;Catholic book pub. co.&quot;]</td><td>&quot;Not renewed.&quot;</td><td>&quot;1943&quot;</td><td>null</td><td>null</td><td>null</td><td>null</td><td>null</td><td>null</td><td>&quot;b08f6330-ef8f-…</td><td>[&quot;1950-12-20&quot;]</td><td>&quot;RE7319&quot;</td><td>null</td><td>null</td><td>&quot;Voices from th…</td><td>null</td><td>[]</td><td>[]</td><td>null</td><td>&quot;Helen Seitter …</td><td>null</td><td>&quot;Voices from th…</td><td>&quot;L’imitation de…</td></tr><tr><td>&hellip;</td><td>&hellip;</td><td>&hellip;</td><td>&hellip;</td><td>&hellip;</td><td>&hellip;</td><td>&hellip;</td><td>&hellip;</td><td>&hellip;</td><td>&hellip;</td><td>&hellip;</td><td>&hellip;</td><td>&hellip;</td><td>&hellip;</td><td>&hellip;</td><td>&hellip;</td><td>&hellip;</td><td>&hellip;</td><td>&hellip;</td><td>&hellip;</td><td>&hellip;</td><td>&hellip;</td><td>&hellip;</td><td>&hellip;</td><td>&hellip;</td><td>&hellip;</td><td>&hellip;</td><td>&hellip;</td></tr><tr><td>&quot;5B4C5FCB-6E24-…</td><td>&quot;A5865&quot;</td><td>[]</td><td>&quot;For all mankin…</td><td>[&quot;Blum, Léon&quot;, &quot;Léon Blum&quot;, &quot;W. Pickles&quot;]</td><td>null</td><td>null</td><td>&quot;1946&quot;</td><td>null</td><td>null</td><td>null</td><td>null</td><td>null</td><td>null</td><td>&quot;e9d8c94e-c6db-…</td><td>[&quot;1929-05-04&quot;]</td><td>&quot;R162097&quot;</td><td>&quot;1956-01-04&quot;</td><td>&quot;MILLARD, WILLI…</td><td>&quot;The supplement…</td><td>null</td><td>[]</td><td>[]</td><td>&quot;MILLARD, WILLI…</td><td>&quot;William Barret…</td><td>null</td><td>&quot;The supplement…</td><td>&quot;For all mankin…</td></tr><tr><td>&quot;620E6087-6E24-…</td><td>&quot;AF1182&quot;</td><td>[]</td><td>&quot;… Histoire gén…</td><td>null</td><td>null</td><td>null</td><td>&quot;1946&quot;</td><td>null</td><td>null</td><td>[&quot;illus. (1 mounted col.; facsims., maps) plates (part mounted col.) 30×25cm. At head of title: Sous la directio. de mm. Maxims Gorce et Raoul Mortier. Contents.--[v. 1] Grèce. Rome.--[v. 2] Indo-Iraníens. Judaisme. Origines chrétianismes. Christianismes orientaux&quot;]</td><td>null</td><td>[&quot;v. 1&quot;]</td><td>null</td><td>&quot;2cdea580-668f-…</td><td>[&quot;1944-06-30&quot;]</td><td>&quot;R511013&quot;</td><td>&quot;1971-08-31&quot;</td><td>&quot;MORTIER, RAOUL…</td><td>&quot;Histoire gener…</td><td>null</td><td>[]</td><td>[]</td><td>&quot;MORTIER, RAOUL…</td><td>&quot;Mme Mortier, n…</td><td>null</td><td>&quot;Histoire gener…</td><td>&quot;… Histoire gén…</td></tr><tr><td>&quot;632182AF-6E24-…</td><td>&quot;A5117&quot;</td><td>[]</td><td>&quot;The wonderworl…</td><td>[&quot;Knox, Warren William&quot;, &quot;Warren Knox&quot;, … &quot;Frank Hubbard&quot;]</td><td>[&quot;Charles Scribner&#x27;s sons&quot;]</td><td>null</td><td>&quot;1946&quot;</td><td>null</td><td>null</td><td>[&quot;Book 4 [5, 9]&quot;, &quot;Book 9 by Morris Meistor, Ralph E. Keirstead and Lois M. Shoemaker&quot;]</td><td>null</td><td>[&quot;revisions, book 4, 5&quot;]</td><td>null</td><td>&quot;3e806bfa-24fe-…</td><td>[&quot;1945-12-03&quot;]</td><td>&quot;R564543&quot;</td><td>&quot;1973-12-03&quot;</td><td>&quot;Alice Ormond C…</td><td>&quot;With bated bre…</td><td>null</td><td>[]</td><td>[]</td><td>&quot;R564543. With …</td><td>&quot;Chita Ormond C…</td><td>null</td><td>&quot;With bated bre…</td><td>&quot;The wonderworl…</td></tr><tr><td>&quot;26DAA602-6E16-…</td><td>&quot;A&quot;</td><td>[]</td><td>&quot;Storm drift. […</td><td>[&quot;Savage, Ethel Mary&quot;]</td><td>[&quot;E. M. Savage, St. Mary&#x27;s, Sleepers Hill&quot;]</td><td>null</td><td>&quot;1930&quot;</td><td>null</td><td>null</td><td>null</td><td>null</td><td>null</td><td>null</td><td>&quot;a98046c5-5a7d-…</td><td>[&quot;1949-10-19&quot;]</td><td>&quot;R674241&quot;</td><td>&quot;1977-10-11&quot;</td><td>&quot;G. Paul Butler…</td><td>&quot;Best sermons. …</td><td>null</td><td>[]</td><td>[]</td><td>&quot;R674241. Best …</td><td>&quot;G. Paul Butler…</td><td>null</td><td>&quot;Best sermons. …</td><td>&quot;Storm drift. […</td></tr><tr><td>&quot;902107D3-6D17-…</td><td>&quot;A541946&quot;</td><td>[]</td><td>&quot;3, test 1.&quot;</td><td>[&quot;EDUCATIONAL RESEARCH COUNCIL OF GREATER CLEVELAND&quot;]</td><td>[&quot;4Jan62&quot;]</td><td>null</td><td>&quot;1962&quot;</td><td>null</td><td>&quot;3a4e2da3a7a648…</td><td>[&quot;in notice&quot;]</td><td>null</td><td>null</td><td>null</td><td>&quot;072b6b8f-cff6-…</td><td>[&quot;1932-06-27&quot;]</td><td>&quot;R238806&quot;</td><td>&quot;1959-06-30&quot;</td><td>&quot;CLEMENTS, FLOR…</td><td>&quot;Rhapsody in pi…</td><td>null</td><td>[]</td><td>[]</td><td>&quot;CLEMENTS, FLOR…</td><td>&quot;Florence Ryers…</td><td>null</td><td>&quot;Rhapsody in pi…</td><td>&quot;3, test 1. by …</td></tr></tbody></table></div>"
      ],
      "text/plain": [
       "shape: (7_572, 28)\n",
       "┌────────────┬─────────┬───────────┬───────────┬───┬───────────┬───────────┬───────────┬───────────┐\n",
       "│ uuid       ┆ regnums ┆ reg_dates ┆ title     ┆ … ┆ claimants ┆ notes_rig ┆ prompt_re ┆ prompt_re │\n",
       "│ ---        ┆ ---     ┆ ---       ┆ ---       ┆   ┆ ---       ┆ ht        ┆ n         ┆ g         │\n",
       "│ str        ┆ str     ┆ list[str] ┆ str       ┆   ┆ str       ┆ ---       ┆ ---       ┆ ---       │\n",
       "│            ┆         ┆           ┆           ┆   ┆           ┆ str       ┆ str       ┆ str       │\n",
       "╞════════════╪═════════╪═══════════╪═══════════╪═══╪═══════════╪═══════════╪═══════════╪═══════════╡\n",
       "│ FC1116C3-7 ┆ A181722 ┆ [\"1944-05 ┆ Strangers ┆ … ┆ Holt,     ┆ null      ┆ Teacher's ┆ Strangers │\n",
       "│ 454-1014-8 ┆         ┆ -23\"]     ┆ in my     ┆   ┆ Rinehart, ┆           ┆ manual    ┆ in my     │\n",
       "│ 04D-AD6D08 ┆         ┆           ┆ heart     ┆   ┆ and Winst ┆           ┆ and       ┆ heart by  │\n",
       "│ A5…        ┆         ┆           ┆           ┆   ┆ on|PWH    ┆           ┆ answer    ┆ Buirgy …  │\n",
       "│            ┆         ┆           ┆           ┆   ┆           ┆           ┆ book…     ┆           │\n",
       "│ 063B6B35-7 ┆ A184743 ┆ [\"1944-11 ┆ Year book ┆ … ┆ Nels Jorg ┆ null      ┆ Smoke     ┆ Year book │\n",
       "│ 455-1014-8 ┆         ┆ -30\"]     ┆ of the    ┆   ┆ ensen|A   ┆           ┆ jumpers.  ┆ of the    │\n",
       "│ 333-AE9181 ┆         ┆           ┆ eye, ear, ┆   ┆           ┆           ┆ by        ┆ eye, ear, │\n",
       "│ 7A…        ┆         ┆           ┆ nose …    ┆   ┆           ┆           ┆ UNKNOWN   ┆ nose …    │\n",
       "│ 3D6C9285-7 ┆ A176738 ┆ [\"1943-10 ┆ Turquoise ┆ … ┆ Jean Anne ┆ null      ┆ History   ┆ Turquoise │\n",
       "│ 34A-1014-B ┆         ┆ -13\"]     ┆ path      ┆   ┆ Vincent|A ┆           ┆ of art; a ┆ path by   │\n",
       "│ B2D-86C086 ┆         ┆           ┆           ┆   ┆           ┆           ┆ survey of ┆ Rousseau  │\n",
       "│ 10…        ┆         ┆           ┆           ┆   ┆           ┆           ┆ pain…     ┆ (Chri…    │\n",
       "│ 428DAE0A-7 ┆ A170646 ┆ [\"1943-01 ┆ American  ┆ … ┆ Helen     ┆ null      ┆ For prese ┆ American  │\n",
       "│ 34A-1014-A ┆         ┆ -26\"]     ┆ agricultu ┆   ┆ Seitter   ┆           ┆ nting     ┆ agricultu │\n",
       "│ 774-ABD8D2 ┆         ┆           ┆ re,       ┆   ┆ Stocklen| ┆           ┆ traveling ┆ re,       │\n",
       "│ C3…        ┆         ┆           ┆ 1899-1939 ┆   ┆ C         ┆           ┆ Bible. …  ┆ 1899-1939 │\n",
       "│            ┆         ┆           ┆           ┆   ┆           ┆           ┆           ┆ …         │\n",
       "│ 429007E2-7 ┆ A170652 ┆ [\"1943-01 ┆ L’imitati ┆ … ┆ Helen     ┆ null      ┆ Voices    ┆ L’imitati │\n",
       "│ 34A-1014-A ┆         ┆ -18\"]     ┆ on de Jés ┆   ┆ Seitter   ┆           ┆ from the  ┆ on de Jés │\n",
       "│ 774-ABD8D2 ┆         ┆           ┆ us-Christ ┆   ┆ Stocklen| ┆           ┆ star. by  ┆ us-Christ │\n",
       "│ C3…        ┆         ┆           ┆           ┆   ┆ C         ┆           ┆ UNKNOWN   ┆ by L…     │\n",
       "│ …          ┆ …       ┆ …         ┆ …         ┆ … ┆ …         ┆ …         ┆ …         ┆ …         │\n",
       "│ 5B4C5FCB-6 ┆ A5865   ┆ []        ┆ For all   ┆ … ┆ William   ┆ null      ┆ The suppl ┆ For all   │\n",
       "│ E24-1014-A ┆         ┆           ┆ mankind   ┆   ┆ Barrett   ┆           ┆ ementary  ┆ mankind   │\n",
       "│ 696-AD35B3 ┆         ┆           ┆           ┆   ┆ Millard|A ┆           ┆ Bible; an ┆ by Blum,  │\n",
       "│ FD…        ┆         ┆           ┆           ┆   ┆           ┆           ┆ anth…     ┆ Léon & …  │\n",
       "│ 620E6087-6 ┆ AF1182  ┆ []        ┆ …         ┆ … ┆ Mme       ┆ null      ┆ Histoire  ┆ …         │\n",
       "│ E24-1014-A ┆         ┆           ┆ Histoire  ┆   ┆ Mortier,  ┆           ┆ generale  ┆ Histoire  │\n",
       "│ 696-AD35B3 ┆         ┆           ┆ générale  ┆   ┆ nee Renee ┆           ┆ des       ┆ générale  │\n",
       "│ FD…        ┆         ┆           ┆ des       ┆   ┆ Minet|W   ┆           ┆ religions ┆ des       │\n",
       "│            ┆         ┆           ┆ religion… ┆   ┆           ┆           ┆ …         ┆ religion… │\n",
       "│ 632182AF-6 ┆ A5117   ┆ []        ┆ The wonde ┆ … ┆ Chita     ┆ null      ┆ With      ┆ The wonde │\n",
       "│ E24-1014-A ┆         ┆           ┆ rworld of ┆   ┆ Ormond    ┆           ┆ bated     ┆ rworld of │\n",
       "│ 696-AD35B3 ┆         ┆           ┆ science   ┆   ┆ Campbell| ┆           ┆ breath.   ┆ science   │\n",
       "│ FD…        ┆         ┆           ┆           ┆   ┆ C         ┆           ┆ (In Daily ┆ by Kn…    │\n",
       "│            ┆         ┆           ┆           ┆   ┆           ┆           ┆ new…      ┆           │\n",
       "│ 26DAA602-6 ┆ A       ┆ []        ┆ Storm     ┆ … ┆ G. Paul   ┆ null      ┆ Best      ┆ Storm     │\n",
       "│ E16-1014-B ┆         ┆           ┆ drift.    ┆   ┆ Butler|AG ┆           ┆ sermons.  ┆ drift.    │\n",
       "│ A0A-C4B2DF ┆         ┆           ┆ [Instalme ┆   ┆ . Paul    ┆           ┆ Edited by ┆ [Instalme │\n",
       "│ F7…        ┆         ┆           ┆ nt 7] (In ┆   ┆ Butler    ┆           ┆ G. Paul … ┆ nt 7] (In │\n",
       "│            ┆         ┆           ┆ …         ┆   ┆           ┆           ┆           ┆ …         │\n",
       "│ 902107D3-6 ┆ A541946 ┆ []        ┆ 3, test   ┆ … ┆ Florence  ┆ null      ┆ Rhapsody  ┆ 3, test   │\n",
       "│ D17-1014-B ┆         ┆           ┆ 1.        ┆   ┆ Ryerson   ┆           ┆ in pink,  ┆ 1. by EDU │\n",
       "│ 416-88728C ┆         ┆           ┆           ┆   ┆ Clements| ┆           ┆ by        ┆ CATIONAL  │\n",
       "│ 01…        ┆         ┆           ┆           ┆   ┆ Floren…   ┆           ┆ Florence  ┆ RESEAR…   │\n",
       "│            ┆         ┆           ┆           ┆   ┆           ┆           ┆ Ry…       ┆           │\n",
       "└────────────┴─────────┴───────────┴───────────┴───┴───────────┴───────────┴───────────┴───────────┘"
      ]
     },
     "execution_count": 410,
     "metadata": {},
     "output_type": "execute_result"
    }
   ],
   "source": [
    "final_df.collect()"
   ]
  },
  {
   "cell_type": "code",
   "execution_count": 408,
   "id": "b3a187519fb5fefb",
   "metadata": {
    "ExecuteTime": {
     "end_time": "2024-03-09T16:45:30.976450Z",
     "start_time": "2024-03-09T16:45:29.614913Z"
    }
   },
   "outputs": [],
   "source": [
    "final_df.collect().write_parquet(\n",
    "    \"/Users/baber/PycharmProjects/cce-python/llm/test_matching/renewals_unmatched_for_llm.parquet\"\n",
    ")"
   ]
  },
  {
   "cell_type": "markdown",
   "id": "849e974b71109e44",
   "metadata": {},
   "source": [
    "Get the matched UUIDS. We have matched 518 renewals and 185 registration uuids. The registrations are alot less because most of them were \"child\" entries with a reg number but no uuid.\n",
    "Matched 517 unique regnumbers."
   ]
  },
  {
   "cell_type": "code",
   "execution_count": 412,
   "id": "fb10413c01a9c30f",
   "metadata": {
    "ExecuteTime": {
     "end_time": "2024-03-09T18:52:33.829723Z",
     "start_time": "2024-03-09T18:52:33.824550Z"
    }
   },
   "outputs": [],
   "source": [
    "import json\n",
    "\n",
    "with open(\n",
    "    \"/Users/baber/PycharmProjects/cce-python/output/FINAL-registration_matches_from_llm.ndjson\",\n",
    ") as f:\n",
    "    matches = []\n",
    "    for entry in f:\n",
    "        matches.append(json.loads(entry))"
   ]
  },
  {
   "cell_type": "code",
   "execution_count": 425,
   "id": "d058ba5f1dd334cc",
   "metadata": {
    "ExecuteTime": {
     "end_time": "2024-03-09T19:07:36.732156Z",
     "start_time": "2024-03-09T19:07:35.444021Z"
    }
   },
   "outputs": [
    {
     "data": {
      "text/html": [
       "<div><style>\n",
       ".dataframe > thead > tr,\n",
       ".dataframe > tbody > tr {\n",
       "  text-align: right;\n",
       "  white-space: pre-wrap;\n",
       "}\n",
       "</style>\n",
       "<small>shape: (517, 28)</small><table border=\"1\" class=\"dataframe\"><thead><tr><th>reg_uuid</th><th>ren_uuid</th><th>regnums</th><th>reg_dates</th><th>title</th><th>authors</th><th>publishers</th><th>disposition</th><th>year</th><th>group_title</th><th>group_uuid</th><th>notes</th><th>parent</th><th>new_matter_claimed</th><th>previous_publications</th><th>reg_date</th><th>renewal_id</th><th>renewal_date</th><th>author</th><th>title_right</th><th>new_matter</th><th>see_also_renewal</th><th>see_also_registration</th><th>full_text</th><th>claimants</th><th>notes_right</th><th>prompt_ren</th><th>prompt_reg</th></tr><tr><td>str</td><td>str</td><td>str</td><td>list[str]</td><td>str</td><td>list[str]</td><td>list[str]</td><td>str</td><td>str</td><td>str</td><td>str</td><td>list[str]</td><td>str</td><td>list[str]</td><td>list[str]</td><td>list[str]</td><td>str</td><td>str</td><td>str</td><td>str</td><td>str</td><td>list[null]</td><td>list[null]</td><td>str</td><td>str</td><td>str</td><td>str</td><td>str</td></tr></thead><tbody><tr><td>&quot;28D8EBAE-7359-…</td><td>&quot;6da685b8-be80-…</td><td>&quot;A151239&quot;</td><td>[&quot;1941-03-04&quot;]</td><td>&quot;Pennsylvania G…</td><td>[&quot;Pennsylvania German folklore soc&quot;]</td><td>null</td><td>&quot;Not renewed.&quot;</td><td>&quot;1941&quot;</td><td>null</td><td>null</td><td>null</td><td>null</td><td>null</td><td>null</td><td>[&quot;1951-03-04&quot;]</td><td>&quot;R433307&quot;</td><td>&quot;1968-04-09&quot;</td><td>&quot;ZIEGLER, SAMUE…</td><td>&quot;The Pennsylvan…</td><td>null</td><td>[]</td><td>[]</td><td>&quot;ZIEGLER, SAMUE…</td><td>&quot;Pennsylvania G…</td><td>null</td><td>&quot;The Pennsylvan…</td><td>&quot;Pennsylvania G…</td></tr><tr><td>&quot;C7219039-7893-…</td><td>&quot;d8670be3-dfa7-…</td><td>&quot;A30335&quot;</td><td>[&quot;1948-11-21&quot;]</td><td>&quot;Modem wonders …</td><td>[&quot;LEYSON, BURR WATKINS.&quot;]</td><td>[&quot;E. P. Dutton &amp; Co., inc. New York&quot;]</td><td>&quot;Not renewed.&quot;</td><td>&quot;1949&quot;</td><td>null</td><td>null</td><td>null</td><td>null</td><td>null</td><td>null</td><td>[&quot;1949-02-21&quot;]</td><td>&quot;R657956&quot;</td><td>&quot;1977-02-14&quot;</td><td>&quot;Burr W. Leyson…</td><td>&quot;Modern wonders…</td><td>null</td><td>[]</td><td>[]</td><td>&quot;R657956. Moder…</td><td>&quot;E. P. Dutton|P…</td><td>null</td><td>&quot;Modern wonders…</td><td>&quot;Modem wonders …</td></tr><tr><td>&quot;DB455811-728D-…</td><td>&quot;468a7bb0-5e31-…</td><td>&quot;A215427&quot;</td><td>[&quot;1955-12-01&quot;]</td><td>&quot;Pt.6-10.&quot;</td><td>null</td><td>null</td><td>&quot;Not renewed.&quot;</td><td>&quot;1955&quot;</td><td>null</td><td>null</td><td>null</td><td>null</td><td>null</td><td>null</td><td>[&quot;1952-06-06&quot;]</td><td>&quot;RE74054&quot;</td><td>null</td><td>null</td><td>&quot;Immortal poems…</td><td>null</td><td>[]</td><td>[]</td><td>null</td><td>&quot;Gulf &amp; Western…</td><td>null</td><td>&quot;Immortal poems…</td><td>&quot;Pt.6-10. by UN…</td></tr><tr><td>&quot;18E952B8-6DC2-…</td><td>&quot;35aa5636-148d-…</td><td>&quot;A614541&quot;</td><td>[&quot;1962-02-20&quot;]</td><td>&quot;Western campsi…</td><td>[&quot;SUNSET.&quot;, &quot;the editorial staff of Sunset books.&quot;, &quot;SUNSET.&quot;]</td><td>[&quot;Lane Book Co.&quot;, &quot;Lane Book Co.&quot;]</td><td>&quot;Not renewed.&quot;</td><td>&quot;1963&quot;</td><td>null</td><td>&quot;5066e611778449…</td><td>null</td><td>null</td><td>null</td><td>null</td><td>[&quot;1963-02-20&quot;]</td><td>&quot;RE542034&quot;</td><td>null</td><td>null</td><td>&quot;Western campsi…</td><td>null</td><td>[]</td><td>[]</td><td>null</td><td>&quot;Sunset Publish…</td><td>null</td><td>&quot;Western campsi…</td><td>&quot;Western campsi…</td></tr><tr><td>null</td><td>&quot;ed9f857c-a0d3-…</td><td>&quot;A106774&quot;</td><td>[&quot;1953-01-24&quot;, &quot;1&quot;, … &quot;7&quot;]</td><td>&quot;SUPERMAN.&quot;</td><td>[&quot;Wayne Boring.&quot;]</td><td>[&quot;National Comics Publications, inc.&quot;]</td><td>&quot;Not renewed.&quot;</td><td>null</td><td>null</td><td>null</td><td>null</td><td>&quot;CD1CC570-6F17-…</td><td>null</td><td>null</td><td>[&quot;1951-01-24&quot;]</td><td>&quot;RE33061&quot;</td><td>null</td><td>null</td><td>&quot;Superman.  Rel…</td><td>null</td><td>[]</td><td>[]</td><td>null</td><td>&quot;Comics, Inc.|P…</td><td>null</td><td>&quot;Superman.  Rel…</td><td>&quot;SUPERMAN. by W…</td></tr><tr><td>&hellip;</td><td>&hellip;</td><td>&hellip;</td><td>&hellip;</td><td>&hellip;</td><td>&hellip;</td><td>&hellip;</td><td>&hellip;</td><td>&hellip;</td><td>&hellip;</td><td>&hellip;</td><td>&hellip;</td><td>&hellip;</td><td>&hellip;</td><td>&hellip;</td><td>&hellip;</td><td>&hellip;</td><td>&hellip;</td><td>&hellip;</td><td>&hellip;</td><td>&hellip;</td><td>&hellip;</td><td>&hellip;</td><td>&hellip;</td><td>&hellip;</td><td>&hellip;</td><td>&hellip;</td><td>&hellip;</td></tr><tr><td>&quot;BA260FBC-6C64-…</td><td>&quot;c8178def-877b-…</td><td>&quot;A69503&quot;</td><td>[&quot;1934-01-25&quot;]</td><td>&quot;Modern America…</td><td>[&quot;Cal. R. Fisk&quot;]</td><td>[&quot;Modern American corporation&quot;, &quot;Modern Amer. corporation.&quot;]</td><td>&quot;Not renewed.&quot;</td><td>&quot;1934&quot;</td><td>null</td><td>null</td><td>[&quot;Paged continuously. Based on the New student’s reference work. Vol. 8 contains Lesson outlines and classified questions in nature-work, geography, history, biography, literature, the arts and sciences, industries and inventions, with page references.&quot;]</td><td>null</td><td>null</td><td>null</td><td>[&quot;1952-08-13&quot;]</td><td>&quot;RE57093&quot;</td><td>null</td><td>null</td><td>&quot;The New Funk &amp;…</td><td>null</td><td>[]</td><td>[]</td><td>null</td><td>&quot;Unicorn Press,…</td><td>null</td><td>&quot;The New Funk &amp;…</td><td>&quot;Modern America…</td></tr><tr><td>null</td><td>&quot;db282bd1-3c8d-…</td><td>&quot;A106740&quot;</td><td>[&quot;1953-05-17&quot;, &quot;1&quot;, … &quot;7&quot;]</td><td>&quot;SUPERMAN.&quot;</td><td>[&quot;Wayne Boring.&quot;]</td><td>[&quot;National Comics Publications, inc.&quot;]</td><td>&quot;Not renewed.&quot;</td><td>null</td><td>null</td><td>null</td><td>null</td><td>&quot;CD1CC570-6F17-…</td><td>null</td><td>null</td><td>[&quot;1950-05-17&quot;]</td><td>&quot;RE5605&quot;</td><td>null</td><td>null</td><td>&quot;Superman.  Rel…</td><td>null</td><td>[]</td><td>[]</td><td>null</td><td>&quot;Comics, Inc.|P…</td><td>null</td><td>&quot;Superman.  Rel…</td><td>&quot;SUPERMAN. by W…</td></tr><tr><td>null</td><td>&quot;4aa9b3f1-bfd2-…</td><td>&quot;A266812&quot;</td><td>[&quot;1957-07-03&quot;, &quot;1&quot;, … &quot;9&quot;]</td><td>&quot;Donald Duck.&quot;</td><td>[&quot;DISNEY (WALT) PRODUCTIONS.&quot;]</td><td>[&quot;Walt Disney Productions.&quot;]</td><td>&quot;Not renewed.&quot;</td><td>null</td><td>null</td><td>null</td><td>[&quot;16-21Jul56&quot;]</td><td>&quot;293EB567-72C4-…</td><td>null</td><td>null</td><td>[&quot;1956-07-03&quot;]</td><td>&quot;RE199736&quot;</td><td>null</td><td>null</td><td>&quot;Donald Duck.  …</td><td>null</td><td>[]</td><td>[]</td><td>null</td><td>&quot;Walt Disney Pr…</td><td>null</td><td>&quot;Donald Duck.  …</td><td>&quot;Donald Duck. b…</td></tr><tr><td>null</td><td>&quot;33e5e526-acdc-…</td><td>&quot;A121032&quot;</td><td>[&quot;1954-11-17&quot;, &quot;1&quot;, … &quot;0&quot;]</td><td>&quot;SUPERMAN.&quot;</td><td>[&quot;Wayne Boring&quot;, &quot;Superman&quot;]</td><td>[&quot;National Comics Publications, inc. Release for week of&quot;]</td><td>&quot;Not renewed.&quot;</td><td>null</td><td>null</td><td>null</td><td>[&quot;14Dec53&quot;]</td><td>&quot;DF9D4835-6F5B-…</td><td>null</td><td>null</td><td>[&quot;1953-11-17&quot;]</td><td>&quot;RE100901&quot;</td><td>null</td><td>null</td><td>&quot;Superman.  Rel…</td><td>null</td><td>[]</td><td>[]</td><td>null</td><td>&quot;Comics, Inc.|P…</td><td>null</td><td>&quot;Superman.  Rel…</td><td>&quot;SUPERMAN. by W…</td></tr><tr><td>null</td><td>&quot;fa13ec0c-e5f1-…</td><td>&quot;A266805&quot;</td><td>[&quot;1957-11-13&quot;, &quot;1&quot;, … &quot;6&quot;]</td><td>&quot;Uncle Remus.&quot;</td><td>[&quot;DISNEY (WALT) PRODUCTIONS.&quot;]</td><td>[&quot;Walt Disney Productions.&quot;]</td><td>&quot;Not renewed.&quot;</td><td>null</td><td>null</td><td>null</td><td>[&quot;25Nov56&quot;]</td><td>&quot;2942E433-72C4-…</td><td>null</td><td>null</td><td>[&quot;1956-11-13&quot;]</td><td>&quot;RE199799&quot;</td><td>null</td><td>null</td><td>&quot;Uncle Remus.  …</td><td>null</td><td>[]</td><td>[]</td><td>null</td><td>&quot;Walt Disney Pr…</td><td>null</td><td>&quot;Uncle Remus.  …</td><td>&quot;Uncle Remus. b…</td></tr></tbody></table></div>"
      ],
      "text/plain": [
       "shape: (517, 28)\n",
       "┌────────────┬───────────┬─────────┬───────────┬───┬───────────┬───────────┬───────────┬───────────┐\n",
       "│ reg_uuid   ┆ ren_uuid  ┆ regnums ┆ reg_dates ┆ … ┆ claimants ┆ notes_rig ┆ prompt_re ┆ prompt_re │\n",
       "│ ---        ┆ ---       ┆ ---     ┆ ---       ┆   ┆ ---       ┆ ht        ┆ n         ┆ g         │\n",
       "│ str        ┆ str       ┆ str     ┆ list[str] ┆   ┆ str       ┆ ---       ┆ ---       ┆ ---       │\n",
       "│            ┆           ┆         ┆           ┆   ┆           ┆ str       ┆ str       ┆ str       │\n",
       "╞════════════╪═══════════╪═════════╪═══════════╪═══╪═══════════╪═══════════╪═══════════╪═══════════╡\n",
       "│ 28D8EBAE-7 ┆ 6da685b8- ┆ A151239 ┆ [\"1941-03 ┆ … ┆ Pennsylva ┆ null      ┆ The Penns ┆ Pennsylva │\n",
       "│ 359-1014-9 ┆ be80-560c ┆         ┆ -04\"]     ┆   ┆ nia       ┆           ┆ ylvania   ┆ nia       │\n",
       "│ B25-974021 ┆ -8085-eb9 ┆         ┆           ┆   ┆ German    ┆           ┆ German    ┆ German    │\n",
       "│ 5B…        ┆ 436c8…    ┆         ┆           ┆   ┆ Society|P ┆           ┆ Folklore… ┆ folklore  │\n",
       "│            ┆           ┆         ┆           ┆   ┆ CW        ┆           ┆           ┆ soc…      │\n",
       "│ C7219039-7 ┆ d8670be3- ┆ A30335  ┆ [\"1948-11 ┆ … ┆ E. P. Dut ┆ null      ┆ Modern    ┆ Modem     │\n",
       "│ 893-1014-8 ┆ dfa7-5be3 ┆         ┆ -21\"]     ┆   ┆ ton|PWH   ┆           ┆ wonders   ┆ wonders & │\n",
       "│ 223-95F882 ┆ -a4ce-444 ┆         ┆           ┆   ┆           ┆           ┆ and how   ┆ how they  │\n",
       "│ E0…        ┆ 3527b…    ┆         ┆           ┆   ┆           ┆           ┆ they      ┆ work; i…  │\n",
       "│            ┆           ┆         ┆           ┆   ┆           ┆           ┆ work…     ┆           │\n",
       "│ DB455811-7 ┆ 468a7bb0- ┆ A215427 ┆ [\"1955-12 ┆ … ┆ Gulf &    ┆ null      ┆ Immortal  ┆ Pt.6-10.  │\n",
       "│ 28D-1014-9 ┆ 5e31-da06 ┆         ┆ -01\"]     ┆   ┆ Western   ┆           ┆ poems of  ┆ by        │\n",
       "│ 2CC-D4C993 ┆ -93dc-fa2 ┆         ┆           ┆   ┆ Corporati ┆           ┆ the       ┆ UNKNOWN   │\n",
       "│ EB…        ┆ 316b6…    ┆         ┆           ┆   ┆ on|PWH    ┆           ┆ English   ┆           │\n",
       "│            ┆           ┆         ┆           ┆   ┆           ┆           ┆ la…       ┆           │\n",
       "│ 18E952B8-6 ┆ 35aa5636- ┆ A614541 ┆ [\"1962-02 ┆ … ┆ Sunset    ┆ null      ┆ Western   ┆ Western   │\n",
       "│ DC2-1014-A ┆ 148d-c00c ┆         ┆ -20\"]     ┆   ┆ Publishin ┆           ┆ campsite  ┆ campsite  │\n",
       "│ B63-A583E9 ┆ -a5f8-035 ┆         ┆           ┆   ┆ g Corpora ┆           ┆ directory ┆ directory │\n",
       "│ D2…        ┆ aeedd…    ┆         ┆           ┆   ┆ tion|PW…  ┆           ┆ , 1963…   ┆ , 1963…   │\n",
       "│ null       ┆ ed9f857c- ┆ A106774 ┆ [\"1953-01 ┆ … ┆ Comics,   ┆ null      ┆ Superman. ┆ SUPERMAN. │\n",
       "│            ┆ a0d3-7780 ┆         ┆ -24\",     ┆   ┆ Inc.|PWH  ┆           ┆ Release   ┆ by Wayne  │\n",
       "│            ┆ -4ce7-4af ┆         ┆ \"1\", …    ┆   ┆           ┆           ┆ the week  ┆ Boring.   │\n",
       "│            ┆ 0a8b3…    ┆         ┆ \"7\"]      ┆   ┆           ┆           ┆ of J…     ┆           │\n",
       "│ …          ┆ …         ┆ …       ┆ …         ┆ … ┆ …         ┆ …         ┆ …         ┆ …         │\n",
       "│ BA260FBC-6 ┆ c8178def- ┆ A69503  ┆ [\"1934-01 ┆ … ┆ Unicorn   ┆ null      ┆ The New   ┆ Modern    │\n",
       "│ C64-1014-8 ┆ 877b-e5ee ┆         ┆ -25\"]     ┆   ┆ Press,    ┆           ┆ Funk &    ┆ American  │\n",
       "│ 713-889FF4 ┆ -d4ec-feb ┆         ┆           ┆   ┆ Inc.|PWH  ┆           ┆ Wagnalls  ┆ encyclope │\n",
       "│ 34…        ┆ edef3…    ┆         ┆           ┆   ┆           ┆           ┆ encyclop… ┆ dia, pr…  │\n",
       "│ null       ┆ db282bd1- ┆ A106740 ┆ [\"1953-05 ┆ … ┆ Comics,   ┆ null      ┆ Superman. ┆ SUPERMAN. │\n",
       "│            ┆ 3c8d-a979 ┆         ┆ -17\",     ┆   ┆ Inc.|PWH  ┆           ┆ Release   ┆ by Wayne  │\n",
       "│            ┆ -bd3e-b43 ┆         ┆ \"1\", …    ┆   ┆           ┆           ┆ the week  ┆ Boring.   │\n",
       "│            ┆ 832dc…    ┆         ┆ \"7\"]      ┆   ┆           ┆           ┆ of M…     ┆           │\n",
       "│ null       ┆ 4aa9b3f1- ┆ A266812 ┆ [\"1957-07 ┆ … ┆ Walt      ┆ null      ┆ Donald    ┆ Donald    │\n",
       "│            ┆ bfd2-3873 ┆         ┆ -03\",     ┆   ┆ Disney    ┆           ┆ Duck.     ┆ Duck. by  │\n",
       "│            ┆ -ecbd-c53 ┆         ┆ \"1\", …    ┆   ┆ Productio ┆           ┆ Release   ┆ DISNEY    │\n",
       "│            ┆ 1ea21…    ┆         ┆ \"9\"]      ┆   ┆ ns|PWH    ┆           ┆ July      ┆ (WALT)    │\n",
       "│            ┆           ┆         ┆           ┆   ┆           ┆           ┆ 16-21…    ┆ PR…       │\n",
       "│ null       ┆ 33e5e526- ┆ A121032 ┆ [\"1954-11 ┆ … ┆ Comics,   ┆ null      ┆ Superman. ┆ SUPERMAN. │\n",
       "│            ┆ acdc-33b5 ┆         ┆ -17\",     ┆   ┆ Inc.|PWH  ┆           ┆ Release   ┆ by Wayne  │\n",
       "│            ┆ -5654-303 ┆         ┆ \"1\", …    ┆   ┆           ┆           ┆ the week  ┆ Boring &  │\n",
       "│            ┆ 75603…    ┆         ┆ \"0\"]      ┆   ┆           ┆           ┆ of D…     ┆ Supe…     │\n",
       "│ null       ┆ fa13ec0c- ┆ A266805 ┆ [\"1957-11 ┆ … ┆ Walt      ┆ null      ┆ Uncle     ┆ Uncle     │\n",
       "│            ┆ e5f1-63e0 ┆         ┆ -13\",     ┆   ┆ Disney    ┆           ┆ Remus.    ┆ Remus. by │\n",
       "│            ┆ -0c47-be0 ┆         ┆ \"1\", …    ┆   ┆ Productio ┆           ┆ Release   ┆ DISNEY    │\n",
       "│            ┆ 12c94…    ┆         ┆ \"6\"]      ┆   ┆ ns|PWH    ┆           ┆ Nov. 25,  ┆ (WALT)    │\n",
       "│            ┆           ┆         ┆           ┆   ┆           ┆           ┆ 1…        ┆ PR…       │\n",
       "└────────────┴───────────┴─────────┴───────────┴───┴───────────┴───────────┴───────────┴───────────┘"
      ]
     },
     "execution_count": 425,
     "metadata": {},
     "output_type": "execute_result"
    }
   ],
   "source": [
    "pl.from_dicts(matches).lazy().join(\n",
    "    final_df,\n",
    "    how=\"inner\",\n",
    "    left_on=[\"reg_uuid\", \"ren_uuid\"],\n",
    "    right_on=[\"uuid\", \"uuid_ren\"],\n",
    "    join_nulls=True,\n",
    ").collect().unique(\"regnums\")"
   ]
  }
 ],
 "metadata": {
  "kernelspec": {
   "display_name": "Python 3",
   "language": "python",
   "name": "python3"
  },
  "language_info": {
   "codemirror_mode": {
    "name": "ipython",
    "version": 2
   },
   "file_extension": ".py",
   "mimetype": "text/x-python",
   "name": "python",
   "nbconvert_exporter": "python",
   "pygments_lexer": "ipython2",
   "version": "2.7.6"
  }
 },
 "nbformat": 4,
 "nbformat_minor": 5
}
